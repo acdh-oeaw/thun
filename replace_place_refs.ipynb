{
 "cells": [
  {
   "cell_type": "code",
   "execution_count": 1,
   "metadata": {
    "collapsed": true,
    "deletable": true,
    "editable": true
   },
   "outputs": [],
   "source": [
    "import pandas as pd\n",
    "import os, re\n",
    "import codecs"
   ]
  },
  {
   "cell_type": "code",
   "execution_count": 2,
   "metadata": {
    "collapsed": false,
    "deletable": true,
    "editable": true
   },
   "outputs": [],
   "source": [
    "df = pd.read_excel('Register - ID-Wechsel.xlsx')"
   ]
  },
  {
   "cell_type": "code",
   "execution_count": 9,
   "metadata": {
    "collapsed": false
   },
   "outputs": [],
   "source": [
    "replacement = \"\"\"place_b54709ec140e6c62b1ba4c9ccd9be219\"\"\"\n",
    "for dname, dirs, files in os.walk(\"application-code/thun/data/editions/\"):\n",
    "    for fname in files:\n",
    "        fpath = os.path.join(dname, fname)\n",
    "        newname = \"tmp/{}\".format(fname)\n",
    "        with codecs.open(fpath, \"r\", \"utf-8\") as f:\n",
    "            s = f.read()\n",
    "            for index, row in df.iterrows():\n",
    "                s = s.replace(row[0], row[1])\n",
    "        with codecs.open(newname, \"w\", \"utf-8\") as f:\n",
    "            f.write(s)        "
   ]
  }
 ],
 "metadata": {
  "kernelspec": {
   "display_name": "Python 3",
   "language": "python",
   "name": "python3"
  },
  "language_info": {
   "codemirror_mode": {
    "name": "ipython",
    "version": 3
   },
   "file_extension": ".py",
   "mimetype": "text/x-python",
   "name": "python",
   "nbconvert_exporter": "python",
   "pygments_lexer": "ipython3",
   "version": "3.5.3"
  }
 },
 "nbformat": 4,
 "nbformat_minor": 2
}
