{
 "cells": [
  {
   "cell_type": "code",
   "execution_count": 1,
   "metadata": {
    "collapsed": true
   },
   "outputs": [],
   "source": [
    "import pandas as pd\n",
    "import lxml.etree as ET\n",
    "import requests"
   ]
  },
  {
   "cell_type": "code",
   "execution_count": 2,
   "metadata": {
    "collapsed": true
   },
   "outputs": [],
   "source": [
    "# read csv and remove not referenced places\n",
    "df = pd.read_csv('data/thun_places_georeferenced_geobrowser.csv', encoding=\"utf-8\")\n",
    "cleaned_df = df.dropna(subset=['GettyID'])"
   ]
  },
  {
   "cell_type": "code",
   "execution_count": 3,
   "metadata": {
    "collapsed": false,
    "scrolled": true
   },
   "outputs": [],
   "source": [
    "# fetch listplace.xml and save it as lxml.etree element \"tree\"\n",
    "url = 'http://localhost:8080/exist/rest/db/apps/thun/data/indices/listplace.xml'\n",
    "response = requests.get(url)\n",
    "tree = ET.fromstring(response.content)"
   ]
  },
  {
   "cell_type": "code",
   "execution_count": 4,
   "metadata": {
    "collapsed": false
   },
   "outputs": [],
   "source": [
    "for index, row in cleaned_df.iterrows():\n",
    "    key = (row.Address).lower()\n",
    "    searchstring = \"//tei:place[@xml:id='{}']\".format(key)\n",
    "    if len(tree.xpath(searchstring, namespaces={\"tei\": \"http://www.tei-c.org/ns/1.0\"})) > 0:\n",
    "        hit = tree.xpath(searchstring, namespaces={\"tei\": \"http://www.tei-c.org/ns/1.0\"})[0]\n",
    "        idno = ET.Element(\"idno\", type=\"getty\")\n",
    "        idno.text = str(row.GettyID)\n",
    "        location = ET.Element(\"location\")\n",
    "        geo = ET.Element(\"geo\", decls=\"#WGS\")\n",
    "        coordinates = \"{} {}\".format(row.Longitude, row.Latitude)\n",
    "        geo.text = coordinates\n",
    "        location.append(geo)\n",
    "        hit.append(location)\n",
    "        hit.append(idno)"
   ]
  },
  {
   "cell_type": "code",
   "execution_count": 5,
   "metadata": {
    "collapsed": false
   },
   "outputs": [],
   "source": [
    "# write updated listplace.xml to file\n",
    "with open('data/enriched.xml', 'wb') as f:\n",
    "    f.write(ET.tostring(tree, pretty_print=True))\n"
   ]
  },
  {
   "cell_type": "code",
   "execution_count": null,
   "metadata": {
    "collapsed": true
   },
   "outputs": [],
   "source": []
  }
 ],
 "metadata": {
  "kernelspec": {
   "display_name": "Python 3",
   "language": "python",
   "name": "python3"
  },
  "language_info": {
   "codemirror_mode": {
    "name": "ipython",
    "version": 3
   },
   "file_extension": ".py",
   "mimetype": "text/x-python",
   "name": "python",
   "nbconvert_exporter": "python",
   "pygments_lexer": "ipython3",
   "version": "3.5.1"
  }
 },
 "nbformat": 4,
 "nbformat_minor": 0
}
