{
 "cells": [
  {
   "cell_type": "code",
   "execution_count": 5,
   "metadata": {},
   "outputs": [],
   "source": [
    "import glob\n",
    "import os\n",
    "import re\n",
    "from slugify import slugify"
   ]
  },
  {
   "cell_type": "code",
   "execution_count": 6,
   "metadata": {},
   "outputs": [],
   "source": [
    "path = \"application-code/thun/data/editions/\"\n",
    "outdir = \"application-code/thun/data/tmp/\""
   ]
  },
  {
   "cell_type": "code",
   "execution_count": 24,
   "metadata": {},
   "outputs": [
    {
     "name": "stdout",
     "output_type": "stream",
     "text": [
      "  xml:id=\"alleruntertänigste-bemerkungen-thuns-zu-gymnasialreform_1857_A3-XXI-D439.xml\"\n",
      "  xml:id=\"aufsatz-von-langenau-über-einfluss-von-windischgraetz-1848_1849-12_A3-XXI-D23.xml\"\n",
      "  xml:id=\"aufsatz-von-langenau-über-einfluss-von-windischgraetz-1848_1849-12_A3-XXI-D23.xml\"\n",
      "  xml:id=\"bemerkungen-thuns-zum-gesetz-über-gymnasiallehramtsprüfung_1849_A3-XXI-D4.xml\"\n",
      "  xml:id=\"bemerkungen-thuns-zum-gesetz-über-gymnasiallehramtsprüfung_1849_A3-XXI-D4.xml\"\n",
      "  xml:id=\"bemerkungen-zu-gesetzentwurf-ueber-kirchliche-gebäude_1854-05_A3-XXI-D261.xml\"\n",
      "  xml:id=\"bemerkungen-zu-gesetzentwurf-ueber-kirchliche-gebäude_1854-05_A3-XXI-D261.xml\"\n",
      "  xml:id=\"borovich-an-viale-prela_1856-01-03_A3-XXI-D363.xml\"\n",
      "  xml:id=\"eingabe-der-oesterreichischen-buchhändler_1860-10-16_A3-XXI-D614.xml\"\n",
      "  xml:id=\"entwurf-gesetz-verwaltung-kirchengüter_1860_A3-XXI-D642.xml\"\n",
      "  xml:id=\"gutachten-über-volksschulen-von-krombholz_1850-05-31_A3-XXI-D54.xml\"\n",
      "  xml:id=\"gutachten-über-volksschulen-von-krombholz_1850-05-31_A3-XXI-D54.xml\"\n",
      "  xml:id=\"hahn-an-thun_1854-10-01_A3-XXI-D288.xml\"\n",
      "  xml:id=\"konzept-thuns-über-zustände-in-prag_1849_A3-XXI-D22.xml\"\n",
      "  xml:id=\"linde-an-thun_1856-01-18_A3-XXI-D365.xml\"\n",
      "  xml:id=\"lonyay-an-szögyeny_1860-04-17_A3-XXI-D573.xml\"\n",
      "  xml:id=\"szantofy-über-verlobung-von-jankovics_1857-12-28_A3-XXI-D438.xml\"\n",
      "  xml:id=\"thun-an-celakovsky_1850-11-16_CA1058.xml\"\n",
      "  xml:id=\"thun-an-rechberg_1857-07-21_CA1571.xml\"\n",
      "  xml:id=\"thun-an-rechberg_1858-02-08_CA1572.xml\"\n"
     ]
    }
   ],
   "source": [
    "for file in os.listdir(path):\n",
    "    with open('{}/{}'.format(path, file), 'r', encoding='utf-8') as myfile:\n",
    "        text=myfile.read()\n",
    "#         rng = \"\"\"<?oxygen RNGSchema=\"http://thun-korrespondenz.uibk.ac.at/svn/thun/thun-korrespondenz/schema/thun-schema.rnc\" type=\"compact\"?>\"\"\"\n",
    "#         base = 'xml:base=\"http://thun-korrespondenz.uibk.ac.at:8080/exist/rest/db/files/thun/xml/\"'\n",
    "#         text = text.replace(rng, '')\n",
    "#         text = text.replace(base, '')\n",
    "        xmlid = re.compile(r'  xml:id=\\\"(.+?)\\.xml\"')\n",
    "        regex = re.search(xmlid, text)\n",
    "        \n",
    "        try:\n",
    "            print(regex.group(0))\n",
    "            text = text.replace(regex.group(0), '')\n",
    "            with open('{}/{}'.format(outdir, file), 'w', encoding='utf-8') as myfile:\n",
    "                myfile.write(text)\n",
    "        except:\n",
    "            pass\n",
    "#         \n",
    "       "
   ]
  },
  {
   "cell_type": "code",
   "execution_count": 13,
   "metadata": {},
   "outputs": [],
   "source": [
    "text = \"\"\"<TEI xmlns=\"http://www.tei-c.org/ns/1.0\"  xml:id=\"alleruntertänigste-bemerkungen-thuns-zu-gymnasialreform_1857_A3-XXI-D439.xml\">\"\"\""
   ]
  },
  {
   "cell_type": "code",
   "execution_count": 15,
   "metadata": {},
   "outputs": [],
   "source": [
    "xmlid = re.compile(re.compile(r'xml:id=\\\"(.+?)\\\"'))"
   ]
  },
  {
   "cell_type": "code",
   "execution_count": 16,
   "metadata": {},
   "outputs": [],
   "source": [
    "regex = re.search(xmlid, text)"
   ]
  },
  {
   "cell_type": "code",
   "execution_count": 18,
   "metadata": {},
   "outputs": [
    {
     "name": "stdout",
     "output_type": "stream",
     "text": [
      "xml:id=\"alleruntertänigste-bemerkungen-thuns-zu-gymnasialreform_1857_A3-XXI-D439.xml\"\n"
     ]
    }
   ],
   "source": [
    "print(regex.group(0))"
   ]
  },
  {
   "cell_type": "code",
   "execution_count": null,
   "metadata": {},
   "outputs": [],
   "source": []
  }
 ],
 "metadata": {
  "kernelspec": {
   "display_name": "Python 3",
   "language": "python",
   "name": "python3"
  },
  "language_info": {
   "codemirror_mode": {
    "name": "ipython",
    "version": 3
   },
   "file_extension": ".py",
   "mimetype": "text/x-python",
   "name": "python",
   "nbconvert_exporter": "python",
   "pygments_lexer": "ipython3",
   "version": "3.6.6"
  }
 },
 "nbformat": 4,
 "nbformat_minor": 2
}
