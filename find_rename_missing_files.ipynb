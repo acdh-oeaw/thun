{
 "cells": [
  {
   "cell_type": "code",
   "execution_count": null,
   "metadata": {},
   "outputs": [],
   "source": [
    "import glob\n",
    "import os\n",
    "import re\n",
    "from slugify import slugify"
   ]
  },
  {
   "cell_type": "code",
   "execution_count": null,
   "metadata": {},
   "outputs": [],
   "source": [
    "path = \"application-code/thun/data/editions/\"\n",
    "outdir = \"application-code/thun/data/tmp/\""
   ]
  },
  {
   "cell_type": "code",
   "execution_count": null,
   "metadata": {},
   "outputs": [],
   "source": [
    "for file in os.listdir(path):\n",
    "    with open('{}/{}'.format(path, file), 'r', encoding='utf-8') as myfile:\n",
    "        text=myfile.read()\n",
    "#         rng = \"\"\"<?oxygen RNGSchema=\"http://thun-korrespondenz.uibk.ac.at/svn/thun/thun-korrespondenz/schema/thun-schema.rnc\" type=\"compact\"?>\"\"\"\n",
    "#         base = 'xml:base=\"http://thun-korrespondenz.uibk.ac.at:8080/exist/rest/db/files/thun/xml/\"'\n",
    "#         text = text.replace(rng, '')\n",
    "#         text = text.replace(base, '')\n",
    "        xmlid = re.compile(r'  xml:id=\\\"(.+?)\\.xml\"')\n",
    "        regex = re.search(xmlid, text)\n",
    "        \n",
    "        try:\n",
    "            print(regex.group(0))\n",
    "            text = text.replace(regex.group(0), '')\n",
    "            with open('{}/{}'.format(outdir, file), 'w', encoding='utf-8') as myfile:\n",
    "                myfile.write(text)\n",
    "        except:\n",
    "            pass\n",
    "#         \n",
    "       "
   ]
  }
 ],
 "metadata": {
  "kernelspec": {
   "display_name": "Python 3",
   "language": "python",
   "name": "python3"
  },
  "language_info": {
   "codemirror_mode": {
    "name": "ipython",
    "version": 3
   },
   "file_extension": ".py",
   "mimetype": "text/x-python",
   "name": "python",
   "nbconvert_exporter": "python",
   "pygments_lexer": "ipython3",
   "version": "3.6.6"
  }
 },
 "nbformat": 4,
 "nbformat_minor": 2
}
